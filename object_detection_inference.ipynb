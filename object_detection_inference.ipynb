{
 "cells": [
  {
   "cell_type": "markdown",
   "metadata": {},
   "source": [
    "# Object Detection Inference\n",
    "Welcome to the object detection inference walkthrough!  This notebook will walk you step by step through the process of using a pre-trained model to detect objects in an image. Make sure to follow the [installation instructions](https://github.com/tensorflow/models/blob/master/research/object_detection/g3doc/installation.md) before you start."
   ]
  },
  {
   "cell_type": "markdown",
   "metadata": {},
   "source": [
    "# Imports"
   ]
  },
  {
   "cell_type": "code",
   "execution_count": 1,
   "metadata": {
    "collapsed": true,
    "scrolled": true
   },
   "outputs": [],
   "source": [
    "import numpy as np\n",
    "import os\n",
    "import six.moves.urllib as urllib\n",
    "import sys\n",
    "import tarfile\n",
    "import tensorflow as tf\n",
    "import zipfile\n",
    "\n",
    "from collections import defaultdict\n",
    "from io import StringIO\n",
    "from matplotlib import pyplot as plt\n",
    "from PIL import Image\n",
    "\n",
    "sys.path.append(\"/home/shuo/Shuo/tensorflow_models/research\")\n",
    "sys.path.append(\"/home/shuo/Shuo/tensorflow_models/research/object_detection\")\n",
    "\n",
    "from utils import label_map_util\n",
    "\n",
    "from utils import visualization_utils as vis_util\n",
    "from tensorflow.python.client import timeline\n",
    "\n",
    "import time\n",
    "\n",
    "def timeSince(since):\n",
    "    now = time.time()\n",
    "    s = now - since\n",
    "    return '%dms' % (s*1000)\n",
    "\n",
    "def load_image_into_numpy_array(image):\n",
    "  (im_width, im_height) = image.size\n",
    "  return np.array(image.getdata()).reshape(\n",
    "      (im_height, im_width, 3)).astype(np.uint8)"
   ]
  },
  {
   "cell_type": "code",
   "execution_count": 2,
   "metadata": {
    "collapsed": true
   },
   "outputs": [],
   "source": [
    "MODEL_ZOO = [\n",
    "            'faster_rcnn_inception_resnet_v2_atrous_coco',                   # 0  .37\n",
    "            'faster_rcnn_inception_resnet_v2_atrous_lowproposals_coco',      # 1  \n",
    "            'faster_rcnn_inception_v2_coco',                                 # 2  .28\n",
    "            'faster_rcnn_nas_coco',                                          # 3  .43\n",
    "            'faster_rcnn_nas_lowproposals_coco',                             # 4  \n",
    "            'faster_rcnn_resnet50_coco',                                     # 5  .30\n",
    "            'faster_rcnn_resnet50_lowproposals_coco',                        # 6  \n",
    "            'faster_rcnn_resnet101_coco',                                    # 7  .32\n",
    "            'faster_rcnn_resnet101_kitti',                                   # 8  .87\n",
    "            'faster_rcnn_resnet101_lowproposals_coco',                       # 9  \n",
    "            'rfcn_resnet101_coco',                                           # 10 .30\n",
    "            'ssd_inception_v2_coco',                                         # 11 .24\n",
    "            'ssd_mobilenet_v1_coco'                                          # 12 .21\n",
    "            ]  \n",
    "                         \n",
    "\n",
    "USE_MODEL_ID = 12\n",
    "\n",
    "MODEL_NAME = MODEL_ZOO[USE_MODEL_ID]\n",
    "\n",
    "# Path to frozen detection graph. This is the actual model that is used for the object detection.\n",
    "PATH_TO_CKPT = '/home/shuo/Shuo/tensorflow_models/research/object_detection/off_the_shelf_models/' + MODEL_NAME + '/frozen_inference_graph.pb'\n",
    "# PATH_TO_CKPT = '/home/shuo/Shuo/tensorflow_models/research/object_detection/off_the_shelf_models/' + MODEL_NAME + '/saved_model/saved_model.pb'\n",
    "\n",
    "# List of the strings that is used to add correct label for each box. \n",
    "# PATH_TO_LABELS = os.path.join('/home/shuo/Shuo/tensorflow_models/research/object_detection/data', 'aic_label_map.pbtxt')\n",
    "PATH_TO_LABELS = os.path.join('/home/shuo/Shuo/tensorflow_models/research/object_detection/data', 'mscoco_label_map.pbtxt')\n",
    "NUM_CLASSES = 90\n",
    "if MODEL_NAME[-5:] == 'kitti':\n",
    "    PATH_TO_LABELS = os.path.join('/home/shuo/Shuo/tensorflow_models/research/object_detection/data', 'kitti_label_map.pbtxt')\n",
    "    NUM_CLASSES = 2\n",
    "\n",
    "detection_graph = tf.Graph()\n",
    "with detection_graph.as_default():\n",
    "  od_graph_def = tf.GraphDef()\n",
    "  with tf.gfile.GFile(PATH_TO_CKPT, 'rb') as fid:\n",
    "#     with tf.device('/gpu:1'):\n",
    "        serialized_graph = fid.read()\n",
    "        od_graph_def.ParseFromString(serialized_graph)\n",
    "        tf.import_graph_def(od_graph_def, name='')\n",
    "\n",
    "label_map = label_map_util.load_labelmap(PATH_TO_LABELS)\n",
    "categories = label_map_util.convert_label_map_to_categories(label_map, max_num_classes=NUM_CLASSES, use_display_name=True)\n",
    "category_index = label_map_util.create_category_index(categories)\n",
    "\n",
    "\n",
    "\n",
    "\n",
    "\n",
    "# For the sake of simplicity we will use only 2 images:\n",
    "# image1.jpg\n",
    "# image2.jpg\n",
    "# If you want to test the code with your images, just add path to the images to the TEST_IMAGE_PATHS.\n",
    "PATH_TO_TEST_IMAGES_DIR = '/home/shuo/Shuo/tensorflow_models/research/object_detection/test_images'\n",
    "# PATH_TO_TEST_IMAGES_DIR = '/home/shuo/Deformable-ConvNets/data/data_2/VOC1080/JPEGImages'\n",
    "# PATH_TO_TEST_IMAGES_DIR = '/media/shuo/Shuo_NVIDIA/Dataset_for_LSTM/Frames/'\n",
    "\n",
    "TEST_IMAGE_PATHS = [ os.path.join(PATH_TO_TEST_IMAGES_DIR, 'image{}.jpg'.format(i)) for i in range(1, 3) ]\n",
    "# TEST_IMAGE_PATHS = [ os.path.join(PATH_TO_TEST_IMAGES_DIR, '{}.jpg'.format(i)) for i in range(926,930) ]\n",
    "# TEST_IMAGE_PATHS = [ os.path.join(PATH_TO_TEST_IMAGES_DIR, '{}'.format(i)) for i in np.sort(os.listdir(PATH_TO_TEST_IMAGES_DIR)) ]\n",
    "# TEST_IMAGE_PATHS = TEST_IMAGE_PATHS[147302:]\n",
    "# Size, in inches, of the output images.\n",
    "IMAGE_SIZE = (15, 12)"
   ]
  },
  {
   "cell_type": "markdown",
   "metadata": {},
   "source": [
    "## Helper code"
   ]
  },
  {
   "cell_type": "code",
   "execution_count": 3,
   "metadata": {
    "collapsed": true
   },
   "outputs": [],
   "source": [
    "def load_image_into_numpy_array(image):\n",
    "  (im_width, im_height) = image.size\n",
    "  return np.array(image.getdata()).reshape(\n",
    "      (im_height, im_width, 3)).astype(np.uint8)"
   ]
  },
  {
   "cell_type": "markdown",
   "metadata": {},
   "source": [
    "# Detection"
   ]
  },
  {
   "cell_type": "code",
   "execution_count": 4,
   "metadata": {
    "scrolled": false
   },
   "outputs": [
    {
     "name": "stdout",
     "output_type": "stream",
     "text": [
      "Iteration 1: 419.106 sec\n",
      "Iteration 2: 0.090 sec\n",
      "Iteration 3: 0.083 sec\n",
      "Iteration 4: 0.087 sec\n",
      "Iteration 5: 0.084 sec\n",
      "Iteration 6: 0.080 sec\n",
      "Iteration 7: 0.090 sec\n",
      "Iteration 8: 0.088 sec\n",
      "Iteration 9: 0.085 sec\n",
      "Iteration 10: 0.088 sec\n"
     ]
    }
   ],
   "source": [
    "from tensorflow.python.client import timeline\n",
    "# logs_path = \"/tmp/ssd_mobilenet_v1_coco\"\n",
    "os.environ['CUDA_VISIBLE_DEVICES'] = '1'\n",
    "\n",
    "# /gpu:0\n",
    "with detection_graph.as_default():\n",
    "  with tf.Session(graph=detection_graph) as sess:\n",
    "#     writer = tf.summary.FileWriter(logs_path, graph=tf.get_default_graph())\n",
    "#     file_writer = tf.summary.FileWriter(logs_path, sess.graph)\n",
    "    # Definite input and output Tensors for detection_graph\n",
    "    image_tensor = detection_graph.get_tensor_by_name('image_tensor:0')\n",
    "    # Each box represents a part of the image where a particular object was detected.\n",
    "    detection_boxes = detection_graph.get_tensor_by_name('detection_boxes:0')\n",
    "    # Each score represent how level of confidence for each of the objects.\n",
    "    # Score is shown on the result image, together with the class label.\n",
    "    detection_scores = detection_graph.get_tensor_by_name('detection_scores:0')\n",
    "    detection_classes = detection_graph.get_tensor_by_name('detection_classes:0')\n",
    "    num_detections = detection_graph.get_tensor_by_name('num_detections:0')\n",
    "    i = 0\n",
    "#     for image_path in TEST_IMAGE_PATHS:\n",
    "    for _ in range(10):\n",
    "      image_path = TEST_IMAGE_PATHS[1]\n",
    "      i += 1\n",
    "      image = Image.open(image_path)\n",
    "      # the array based representation of the image will be used later in order to prepare the\n",
    "      # result image with boxes and labels on it.\n",
    "      image_np = load_image_into_numpy_array(image)\n",
    "      # Expand dimensions since the model expects images to have shape: [1, None, None, 3]\n",
    "      image_np_expanded = np.expand_dims(image_np, axis=0)\n",
    "      # Actual detection.\n",
    "#       options = tf.RunOptions(trace_level=tf.RunOptions.FULL_TRACE)\n",
    "#       run_metadata = tf.RunMetadata()\n",
    "      start_time = time.time()\n",
    "        \n",
    "#       (boxes, scores, classes, num) = sess.run(\\\n",
    "#       [detection_boxes, detection_scores, detection_classes, num_detections], \\\n",
    "#       feed_dicthttps://drive.google.com/open?id=12LhPa8UYsox1EuFD1w-zJMnEsiEFv4Ck={image_tensor: image_np_expanded}, \\\n",
    "#       options=options, run_metadata=run_metadata)    \n",
    "    \n",
    "      (boxes, scores, classes, num) = sess.run(\n",
    "          [detection_boxes, detection_scores, detection_classes, num_detections],\n",
    "          feed_dict={image_tensor: image_np_expanded})\n",
    "      print('Iteration %d: %.3f sec'%(i, time.time()-start_time))\n",
    "      # Visualization of the results of a detection.\n",
    "      vis_util.visualize_boxes_and_labels_on_image_array(\n",
    "        image_np,\n",
    "        np.squeeze(boxes),\n",
    "        np.squeeze(classes).astype(np.int32),\n",
    "        np.squeeze(scores),\n",
    "        category_index,\n",
    "        use_normalized_coordinates=True,\n",
    "        line_thickness=8)\n",
    "        \n",
    "    plt.figure(figsize=IMAGE_SIZE)\n",
    "    plt.imshow(image_np)\n",
    "    \n",
    "#     fetched_timeline = timeline.Timeline(run_metadata.step_stats)\n",
    "#     chrome_trace = fetched_timeline.generate_chrome_trace_format()\n",
    "#     with open('rcnn_gpu.json' , 'w') as f:\n",
    "#       f.write(chrome_trace)"
   ]
  },
  {
   "cell_type": "code",
   "execution_count": 5,
   "metadata": {
    "collapsed": true
   },
   "outputs": [],
   "source": [
    "# import tensorflow as tf\n",
    "# from tensorflow.python.platform import gfile\n",
    "# with tf.Session() as sess:\n",
    "#     model_filename = PATH_TO_CKPT\n",
    "#     with gfile.FastGFile(model_filename, 'rb') as f:\n",
    "#         graph_def = tf.GraphDef()\n",
    "#         graph_def.ParseFromString(f.read())\n",
    "#         g_in = tf.import_graph_def(graph_def)\n",
    "# LOGDIR='/tmp/' + MODEL_NAME\n",
    "# train_writer = tf.summary.FileWriter(LOGDIR)\n",
    "# train_writer.add_graph(sess.graph)"
   ]
  },
  {
   "cell_type": "code",
   "execution_count": null,
   "metadata": {
    "collapsed": true
   },
   "outputs": [],
   "source": []
  }
 ],
 "metadata": {
  "kernelspec": {
   "display_name": "Python 3",
   "language": "python",
   "name": "python3"
  },
  "language_info": {
   "codemirror_mode": {
    "name": "ipython",
    "version": 3
   },
   "file_extension": ".py",
   "mimetype": "text/x-python",
   "name": "python",
   "nbconvert_exporter": "python",
   "pygments_lexer": "ipython3",
   "version": "3.5.3"
  },
  "widgets": {
   "state": {},
   "version": "1.1.2"
  }
 },
 "nbformat": 4,
 "nbformat_minor": 2
}
